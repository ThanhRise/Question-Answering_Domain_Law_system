{
 "cells": [
  {
   "cell_type": "code",
   "execution_count": null,
   "metadata": {},
   "outputs": [],
   "source": [
    "# explore data\n",
    "import pandas as pd\n",
    "import numpy as np\n",
    "import matplotlib.pyplot as plt\n",
    "import seaborn as sns"
   ]
  },
  {
   "cell_type": "code",
   "execution_count": null,
   "metadata": {},
   "outputs": [],
   "source": [
    "# read data from json file \n",
    "data = pd.read_json('data/law.json' , lines=True)\n",
    "data.head()\n"
   ]
  },
  {
   "cell_type": "code",
   "execution_count": null,
   "metadata": {},
   "outputs": [],
   "source": [
    "data.columns.__len__()"
   ]
  },
  {
   "cell_type": "code",
   "execution_count": null,
   "metadata": {},
   "outputs": [],
   "source": [
    "# check data at index 0 in json file\n",
    "data.loc[0][10]"
   ]
  },
  {
   "cell_type": "code",
   "execution_count": null,
   "metadata": {},
   "outputs": [],
   "source": [
    "from tqdm import tqdm\n",
    "\n",
    "data_clear = pd.DataFrame(columns=['url', 'title', 'user_question', 'question', 'answer', 'citation'])\n",
    "data_clear.head()"
   ]
  },
  {
   "cell_type": "code",
   "execution_count": null,
   "metadata": {},
   "outputs": [],
   "source": [
    "\n",
    "# get data from json file\n",
    "for i in tqdm(range(data.shape[0])):\n",
    "    if type(data.loc[0][i]) == list:\n",
    "        for j in range(data.columns.__len__()):\n",
    "            URL = data.loc[0][i][j]['url']\n",
    "            TITLE = data.loc[0][i][j]['title']\n",
    "            USER_QUESTION = data.loc[0][i][j]['user_question']\n",
    "            QUESTION = data.loc[0][i][j]['question']\n",
    "            ANSWER = data.loc[0][i][j]['answer']\n",
    "            CITATION = data.loc[0][i][j]['citation']\n",
    "\n",
    "            if type(TITLE) == list:\n",
    "                TITLE = TITLE[0]\n",
    "            if type(USER_QUESTION) == list:\n",
    "                USER_QUESTION = USER_QUESTION[0]\n",
    "            if type(QUESTION) == list:\n",
    "                QUESTION = QUESTION[0]\n",
    "\n",
    "            data_clear = pd.concat([data_clear, pd.DataFrame({'url': [URL], 'title': [TITLE], 'user_question': [USER_QUESTION],\n",
    "                                                                'question': [QUESTION], 'answer': [ANSWER],\n",
    "                                                                'citation': [CITATION]})], ignore_index=True)\n",
    "    else:\n",
    "        URL = data.loc[0][i]['url']\n",
    "        TITLE = data.loc[0][i]['title']\n",
    "        USER_QUESTION = data.loc[0][i]['user_question']\n",
    "        QUESTION = data.loc[0][i]['question']\n",
    "        ANSWER = data.loc[0][i]['answer']\n",
    "        CITATION = data.loc[0][i]['citation']\n",
    "\n",
    "        if type(TITLE) == list:\n",
    "            TITLE = TITLE[0]\n",
    "        if type(USER_QUESTION) == list:\n",
    "            USER_QUESTION = USER_QUESTION[0]\n",
    "        if type(QUESTION) == list:\n",
    "            QUESTION = QUESTION[0]\n",
    "\n",
    "        data_clear = pd.concat([data_clear, pd.DataFrame({'url': [URL], 'title': [TITLE], 'user_question': [USER_QUESTION],\n",
    "                                                            'question': [QUESTION], 'answer': [ANSWER],\n",
    "                                                            'citation': [CITATION]})], ignore_index=True)\n",
    "\n",
    "\n",
    "data_clear.head()\n"
   ]
  },
  {
   "cell_type": "code",
   "execution_count": null,
   "metadata": {},
   "outputs": [],
   "source": [
    "data_clear.to_csv('data/data_clear.csv', index=False)"
   ]
  },
  {
   "cell_type": "code",
   "execution_count": null,
   "metadata": {},
   "outputs": [],
   "source": [
    "data_clear.to_json('data/data_clear.json', orient='records', lines=True)"
   ]
  },
  {
   "cell_type": "code",
   "execution_count": null,
   "metadata": {},
   "outputs": [],
   "source": [
    "data_clear.describe()"
   ]
  },
  {
   "cell_type": "code",
   "execution_count": null,
   "metadata": {},
   "outputs": [],
   "source": [
    "import warnings\n",
    "\n",
    "import pandas as pd\n",
    "import seaborn as sns\n",
    "from matplotlib import rcParams\n",
    "\n",
    "sns.set()\n",
    "rcParams[\"figure.figsize\"] = (20, 10)\n",
    "pd.options.display.max_columns = None\n",
    "warnings.filterwarnings(\"ignore\")\n",
    "from datasets import Dataset\n",
    "\n",
    "ds = Dataset.from_json(\"./data/law.json\")\n",
    "ds = ds.filter(\n",
    "    lambda x: x[\"user_question\"] is not None\n",
    "    and x[\"answer\"] is not None\n",
    "    and x[\"answer\"] != \"\"\n",
    "    and x[\"user_question\"] != \"\"\n",
    ")\n",
    "\n",
    "\n",
    "def mapper(x):\n",
    "    return {\n",
    "        \"question\": (x[\"title\"][0] + \" \" + x[\"user_question\"]).strip(),\n",
    "        \"answer\": x[\"answer\"],\n",
    "    }\n",
    "\n",
    "\n",
    "ds = ds.map(mapper, remove_columns=ds.column_names, num_proc=4)\n",
    "ds.to_json(\"./data/train_data.jsonl\", orient=\"records\", lines=True)"
   ]
  }
 ],
 "metadata": {
  "kernelspec": {
   "display_name": "Python 3",
   "language": "python",
   "name": "python3"
  },
  "language_info": {
   "codemirror_mode": {
    "name": "ipython",
    "version": 3
   },
   "file_extension": ".py",
   "mimetype": "text/x-python",
   "name": "python",
   "nbconvert_exporter": "python",
   "pygments_lexer": "ipython3",
   "version": "3.11.0"
  },
  "orig_nbformat": 4
 },
 "nbformat": 4,
 "nbformat_minor": 2
}
