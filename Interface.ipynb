{
 "cells": [
  {
   "cell_type": "code",
   "execution_count": null,
   "metadata": {},
   "outputs": [],
   "source": [
    "!pip -q install datasets transformers sentence-transformers accelerate gradio"
   ]
  },
  {
   "cell_type": "code",
   "execution_count": null,
   "metadata": {},
   "outputs": [],
   "source": [
    "import math\n",
    "from datetime import datetime\n",
    "\n",
    "from datasets import Dataset\n",
    "from sentence_transformers import SentenceTransformer, losses, models, util\n",
    "from sentence_transformers.readers import InputExample\n",
    "from torch.utils.data import DataLoader\n",
    "\n",
    "# Config hyperparameters\n",
    "DATA_PATH = \"/content/drive/MyDrive/Pj3/clear_data.jsonl\"\n",
    "BASE_MODEL = \"intfloat/multilingual-e5-base\"\n",
    "\n",
    "for x in [DATA_PATH, BASE_MODEL]:\n",
    "    print(x)"
   ]
  },
  {
   "cell_type": "code",
   "execution_count": null,
   "metadata": {},
   "outputs": [],
   "source": [
    "model = SentenceTransformer('ThanhRise/intfloat-multilingual-e5-base2023-08-30_16-52-03')"
   ]
  },
  {
   "cell_type": "code",
   "execution_count": null,
   "metadata": {},
   "outputs": [],
   "source": [
    "Full_Data = Dataset.from_json(DATA_PATH)"
   ]
  },
  {
   "cell_type": "code",
   "execution_count": null,
   "metadata": {},
   "outputs": [],
   "source": [
    "example = Full_Data.shuffle()\n",
    "print(example[0]['user_question'])\n",
    "print()\n",
    "print(example[0]['question'])"
   ]
  },
  {
   "cell_type": "code",
   "execution_count": null,
   "metadata": {},
   "outputs": [],
   "source": [
    "corpus_full = Full_Data['question']\n",
    "corpus_full_embeddings = model.encode(corpus_full)"
   ]
  },
  {
   "cell_type": "code",
   "execution_count": null,
   "metadata": {},
   "outputs": [],
   "source": [
    "def get_answer(question, topk=3):\n",
    "    q_embeddings = model.encode(question)\n",
    "    result = util.semantic_search(q_embeddings,corpus_full_embeddings)\n",
    "    result = [(x['corpus_id'],x['score']) for x in result[0]]\n",
    "    return [(corpus_full[i], Full_Data[i][\"url\"],Full_Data[i][\"answer\"],score) for i, score in result]"
   ]
  },
  {
   "cell_type": "code",
   "execution_count": null,
   "metadata": {},
   "outputs": [],
   "source": [
    "import gradio as gr\n",
    "\n",
    "def generate_answer(question):\n",
    "    output = ''\n",
    "    for a,b,c,d in get_answer(question):\n",
    "        output += f\"Question: {a}\\n\\nUrl: {b}\\n\\nAnswer: {c}\\n\\nScore: {d}\\n\\n\" + '-----'*30 + '\\n\\n'\n",
    "    return output\n",
    "\n",
    "iface = gr.Interface(\n",
    "    fn=generate_answer,\n",
    "    inputs=gr.components.Textbox(lines=2, placeholder=\"Enter your question here...\"),\n",
    "    outputs=gr.components.Textbox(lines=2, placeholder=\"Answer...\"),\n",
    "    title=\"Question Answering\",\n",
    "    description=\"Answering question from law documents\"\n",
    ")\n",
    "\n",
    "iface.launch()"
   ]
  }
 ],
 "metadata": {
  "language_info": {
   "name": "python"
  },
  "orig_nbformat": 4
 },
 "nbformat": 4,
 "nbformat_minor": 2
}
